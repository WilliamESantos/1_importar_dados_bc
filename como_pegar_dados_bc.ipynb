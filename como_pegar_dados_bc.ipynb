{
 "cells": [
  {
   "cell_type": "markdown",
   "id": "fa0671ca",
   "metadata": {},
   "source": [
    "# <font color='darkblue'>Pegando Dados do Banco Central com Python\n",
    "\n",
    "https://www3.bcb.gov.br/sgspub/localizarseries/localizarSeries.do?method=prepararTelaLocalizarSeries\n",
    "\n",
    "https://wilsonfreitas.github.io/python-bcb/sgs.html"
   ]
  },
  {
   "cell_type": "markdown",
   "id": "3206ce11",
   "metadata": {},
   "source": [
    "### <font color='darkblue'> Documentação Mplcyberpunk, Matplotlib, Python-bcb\n",
    "https://pypi.org/project/mplcyberpunk/\n",
    "\n",
    "https://matplotlib.org/stable/index.html\n",
    "    \n",
    "https://pypi.org/project/python-bcb/"
   ]
  },
  {
   "cell_type": "markdown",
   "id": "1abf0898",
   "metadata": {},
   "source": [
    "### <font color='darkblue'>Link da Aula, Para Acompanhamento\n",
    "https://www.youtube.com/watch?v=KKMNdqfzsTI&list=PLQkgHGk8rux6L42KC9l6R25AD7iimkLi_&index=12"
   ]
  },
  {
   "cell_type": "code",
   "execution_count": 60,
   "id": "1620763e",
   "metadata": {},
   "outputs": [],
   "source": [
    "# Instalar as bibliotecas abaixo:\n",
    "# !pip install mplcyberpunk\n",
    "# !pip install matplotlib\n",
    "# !pip install python-bcb\n",
    "# Para olhar se a biblioteca já está instalada, deve-se ir no Prompet do Anaconda e digitar: pip freeze"
   ]
  },
  {
   "cell_type": "code",
   "execution_count": 7,
   "id": "d6c37b5a",
   "metadata": {},
   "outputs": [],
   "source": [
    "# Importar as bibliotecas\n",
    "\n",
    "# Essa biblioteca foi baseada no Matplotlib e faz gráficos Cyberpunk no Python.\n",
    "import mplcyberpunk\n",
    "\n",
    "# Essa biblioteca permite acesso ao dados do Banco Central.\n",
    "from bcb import sgs\n",
    "from bcb import currency\n",
    "\n",
    "# Matplotlib é uma biblioteca Python frequentemente utilizada para ciência de dados. É uma ferramenta de código aberto\n",
    "# que oferece recursos de plotagem para a criação de gráficos 2D e 3D com visualizações estáticas, animadas e interativas.\n",
    "import matplotlib.pyplot as plt\n",
    "import matplotlib.ticker as mtick\n",
    "import matplotlib.dates as mdates\n",
    "from matplotlib.dates import date2num\n",
    "\n",
    "# Essa biblioteca efetua manipulação de séries no tempo para data frame.\n",
    "from datetime import datetime\n",
    "from datetime import timedelta\n",
    "\n",
    "plt.style.use(\"cyberpunk\")"
   ]
  },
  {
   "cell_type": "markdown",
   "id": "69363956",
   "metadata": {},
   "source": [
    "### <font color='darkblue'>Taxa de Juros"
   ]
  },
  {
   "cell_type": "code",
   "execution_count": 8,
   "id": "600a341e",
   "metadata": {},
   "outputs": [
    {
     "data": {
      "text/html": [
       "<div>\n",
       "<style scoped>\n",
       "    .dataframe tbody tr th:only-of-type {\n",
       "        vertical-align: middle;\n",
       "    }\n",
       "\n",
       "    .dataframe tbody tr th {\n",
       "        vertical-align: top;\n",
       "    }\n",
       "\n",
       "    .dataframe thead th {\n",
       "        text-align: right;\n",
       "    }\n",
       "</style>\n",
       "<table border=\"1\" class=\"dataframe\">\n",
       "  <thead>\n",
       "    <tr style=\"text-align: right;\">\n",
       "      <th></th>\n",
       "      <th>selic</th>\n",
       "    </tr>\n",
       "    <tr>\n",
       "      <th>Date</th>\n",
       "      <th></th>\n",
       "    </tr>\n",
       "  </thead>\n",
       "  <tbody>\n",
       "    <tr>\n",
       "      <th>2010-01-01</th>\n",
       "      <td>8.75</td>\n",
       "    </tr>\n",
       "    <tr>\n",
       "      <th>2010-01-02</th>\n",
       "      <td>8.75</td>\n",
       "    </tr>\n",
       "    <tr>\n",
       "      <th>2010-01-03</th>\n",
       "      <td>8.75</td>\n",
       "    </tr>\n",
       "    <tr>\n",
       "      <th>2010-01-04</th>\n",
       "      <td>8.75</td>\n",
       "    </tr>\n",
       "    <tr>\n",
       "      <th>2010-01-05</th>\n",
       "      <td>8.75</td>\n",
       "    </tr>\n",
       "    <tr>\n",
       "      <th>...</th>\n",
       "      <td>...</td>\n",
       "    </tr>\n",
       "    <tr>\n",
       "      <th>2023-09-24</th>\n",
       "      <td>12.75</td>\n",
       "    </tr>\n",
       "    <tr>\n",
       "      <th>2023-09-25</th>\n",
       "      <td>12.75</td>\n",
       "    </tr>\n",
       "    <tr>\n",
       "      <th>2023-09-26</th>\n",
       "      <td>12.75</td>\n",
       "    </tr>\n",
       "    <tr>\n",
       "      <th>2023-09-27</th>\n",
       "      <td>12.75</td>\n",
       "    </tr>\n",
       "    <tr>\n",
       "      <th>2023-09-28</th>\n",
       "      <td>12.75</td>\n",
       "    </tr>\n",
       "  </tbody>\n",
       "</table>\n",
       "<p>5019 rows × 1 columns</p>\n",
       "</div>"
      ],
      "text/plain": [
       "            selic\n",
       "Date             \n",
       "2010-01-01   8.75\n",
       "2010-01-02   8.75\n",
       "2010-01-03   8.75\n",
       "2010-01-04   8.75\n",
       "2010-01-05   8.75\n",
       "...           ...\n",
       "2023-09-24  12.75\n",
       "2023-09-25  12.75\n",
       "2023-09-26  12.75\n",
       "2023-09-27  12.75\n",
       "2023-09-28  12.75\n",
       "\n",
       "[5019 rows x 1 columns]"
      ]
     },
     "execution_count": 8,
     "metadata": {},
     "output_type": "execute_result"
    }
   ],
   "source": [
    "# Vamos importar a série (Selic) do Banco Centra\n",
    "# Vamos utilizar \"from bcb import sgs\"\n",
    "# Para saber qual o códico da série que queremos importa devemos olhar na página do BC (Link Acima e Descrição Abaixo)\n",
    "# https://www3.bcb.gov.br/sgspub/localizarseries/localizarSeries.do?method=prepararTelaLocalizarSeries\n",
    "\n",
    "selic = sgs.get({'selic':432}, start = '2010-01-01') \n",
    "\n",
    "selic"
   ]
  },
  {
   "cell_type": "markdown",
   "id": "f1abdeb3",
   "metadata": {},
   "source": [
    "### <font color='darkblue'> Gráfico da Taxa de Juros - Selic"
   ]
  },
  {
   "cell_type": "code",
   "execution_count": 15,
   "id": "159b74b7",
   "metadata": {},
   "outputs": [
    {
     "data": {
      "image/png": "[encoded data removed]",
      "text/plain": [
       "<Figure size 648x360 with 1 Axes>"
      ]
     },
     "metadata": {},
     "output_type": "display_data"
    }
   ],
   "source": [
    "# Vamos plotar um gráfico usando o matplotlib;\n",
    "# Vamos definir o tamanho do gráfico: fig, ax = plt.subplots(figsize=(9, 5))\n",
    "# Vamos tirar as linhas do fundo do gráfico: \"ax.grid(False)\"\n",
    "# Depois vamos salvar o gráfico em nossa pasta, \"plt.savefig('selic.png', dpi = 300)\"\n",
    "\n",
    "import matplotlib.pyplot as plt\n",
    "import matplotlib.ticker as mtick\n",
    "\n",
    "# Defina o tamanho da figura aqui (largura x altura em polegadas)\n",
    "fig, ax = plt.subplots(figsize=(9, 5))\n",
    "\n",
    "plt.style.use(\"cyberpunk\")\n",
    "\n",
    "ax.plot(selic.index, selic['selic'])\n",
    "ax.yaxis.set_major_formatter(mtick.PercentFormatter())\n",
    "ax.grid(False)\n",
    "plt.savefig('Selic.png', dpi=300)\n",
    "\n",
    "plt.show()"
   ]
  },
  {
   "cell_type": "markdown",
   "id": "ca023558",
   "metadata": {},
   "source": [
    "### <font color='darkblue'>Inflação"
   ]
  },
  {
   "cell_type": "code",
   "execution_count": 10,
   "id": "eb5b2bfb",
   "metadata": {},
   "outputs": [],
   "source": [
    "hoje = datetime.now()\n",
    "um_ano_atras = hoje - timedelta(days = 366)"
   ]
  },
  {
   "cell_type": "code",
   "execution_count": 11,
   "id": "00658207",
   "metadata": {},
   "outputs": [
    {
     "data": {
      "text/html": [
       "<div>\n",
       "<style scoped>\n",
       "    .dataframe tbody tr th:only-of-type {\n",
       "        vertical-align: middle;\n",
       "    }\n",
       "\n",
       "    .dataframe tbody tr th {\n",
       "        vertical-align: top;\n",
       "    }\n",
       "\n",
       "    .dataframe thead th {\n",
       "        text-align: right;\n",
       "    }\n",
       "</style>\n",
       "<table border=\"1\" class=\"dataframe\">\n",
       "  <thead>\n",
       "    <tr style=\"text-align: right;\">\n",
       "      <th></th>\n",
       "      <th>ipca</th>\n",
       "      <th>igp-m</th>\n",
       "    </tr>\n",
       "    <tr>\n",
       "      <th>Date</th>\n",
       "      <th></th>\n",
       "      <th></th>\n",
       "    </tr>\n",
       "  </thead>\n",
       "  <tbody>\n",
       "    <tr>\n",
       "      <th>2023-01-01</th>\n",
       "      <td>0.53</td>\n",
       "      <td>0.21</td>\n",
       "    </tr>\n",
       "    <tr>\n",
       "      <th>2023-02-01</th>\n",
       "      <td>0.84</td>\n",
       "      <td>-0.06</td>\n",
       "    </tr>\n",
       "    <tr>\n",
       "      <th>2023-03-01</th>\n",
       "      <td>0.71</td>\n",
       "      <td>0.05</td>\n",
       "    </tr>\n",
       "    <tr>\n",
       "      <th>2023-04-01</th>\n",
       "      <td>0.61</td>\n",
       "      <td>-0.95</td>\n",
       "    </tr>\n",
       "    <tr>\n",
       "      <th>2023-05-01</th>\n",
       "      <td>0.23</td>\n",
       "      <td>-1.84</td>\n",
       "    </tr>\n",
       "    <tr>\n",
       "      <th>2023-06-01</th>\n",
       "      <td>-0.08</td>\n",
       "      <td>-1.93</td>\n",
       "    </tr>\n",
       "    <tr>\n",
       "      <th>2023-07-01</th>\n",
       "      <td>0.12</td>\n",
       "      <td>-0.72</td>\n",
       "    </tr>\n",
       "    <tr>\n",
       "      <th>2023-08-01</th>\n",
       "      <td>0.23</td>\n",
       "      <td>-0.14</td>\n",
       "    </tr>\n",
       "    <tr>\n",
       "      <th>2023-09-01</th>\n",
       "      <td>NaN</td>\n",
       "      <td>0.37</td>\n",
       "    </tr>\n",
       "  </tbody>\n",
       "</table>\n",
       "</div>"
      ],
      "text/plain": [
       "            ipca  igp-m\n",
       "Date                   \n",
       "2023-01-01  0.53   0.21\n",
       "2023-02-01  0.84  -0.06\n",
       "2023-03-01  0.71   0.05\n",
       "2023-04-01  0.61  -0.95\n",
       "2023-05-01  0.23  -1.84\n",
       "2023-06-01 -0.08  -1.93\n",
       "2023-07-01  0.12  -0.72\n",
       "2023-08-01  0.23  -0.14\n",
       "2023-09-01   NaN   0.37"
      ]
     },
     "execution_count": 11,
     "metadata": {},
     "output_type": "execute_result"
    }
   ],
   "source": [
    "# Vamos importar a série (IPCA e IGP-M) do Banco Centra\n",
    "# Vamos utilizar \"from bcb import sgs\"\n",
    "# Para saber qual o códico da série que queremos importa devemos olhar na página do BC (Link Acima e Descrição Abaixo)\n",
    "# https://www3.bcb.gov.br/sgspub/localizarseries/localizarSeries.do?method=prepararTelaLocalizarSeries\n",
    "\n",
    "inflacao = sgs.get({'ipca': 433,\n",
    "             'igp-m': 189}, start = um_ano_atras + timedelta(100))\n",
    "\n",
    "inflacao"
   ]
  },
  {
   "cell_type": "markdown",
   "id": "b1894312",
   "metadata": {},
   "source": [
    "### <font color='darkblue'> Gráfico da Inflação: (IPCA/IGP-M)"
   ]
  },
  {
   "cell_type": "code",
   "execution_count": 16,
   "id": "026b084b",
   "metadata": {},
   "outputs": [
    {
     "data": {
      "image/png": "[encoded data removed]",
      "text/plain": [
       "<Figure size 648x360 with 1 Axes>"
      ]
     },
     "metadata": {},
     "output_type": "display_data"
    }
   ],
   "source": [
    "# Vamos plotar o gráfico do IPCA e IGPM usando o (matplotlib)\n",
    "# Vamos definir o tamanho do gráfico: fig, ax = plt.subplots(figsize=(9, 5))\n",
    "# Vamos tirar as linhas do fundo do gráfico: \"ax.grid(False\"\n",
    "# Vamos abilitar a legenta: \"plt.legend()\"\n",
    "# Depois vamos salvar o gráfico em nossa pasta, \"plt.savefig('selic.png', dpi = 300)\"\n",
    "\n",
    "import matplotlib.pyplot as plt\n",
    "import matplotlib.dates as mdates\n",
    "import matplotlib.ticker as mtick\n",
    "from matplotlib.dates import date2num\n",
    "\n",
    "# Suponha que 'inflacao' seja um DataFrame com os dados apropriados\n",
    "datas_numericas = date2num(inflacao.index)\n",
    "\n",
    "# Defina o tamanho da figura aqui (largura x altura em polegadas)\n",
    "fig, ax = plt.subplots(figsize=(9, 5))\n",
    "\n",
    "ax.bar(datas_numericas - 8, inflacao['ipca'], label=\"IPCA\", width=8)\n",
    "ax.bar(datas_numericas, inflacao['igp-m'], label=\"IGP-M\", width=8)\n",
    "\n",
    "ax.yaxis.set_major_formatter(mtick.PercentFormatter())\n",
    "ax.xaxis_date()\n",
    "formato_data = mdates.DateFormatter('%b-%y')\n",
    "ax.xaxis.set_major_formatter(formato_data)\n",
    "ax.grid(False)\n",
    "plt.axhline(y=0, color='w')\n",
    "plt.legend()\n",
    "plt.savefig('Inflacao.png', dpi=300)\n",
    "\n",
    "plt.show()"
   ]
  },
  {
   "cell_type": "markdown",
   "id": "5f1841f4",
   "metadata": {},
   "source": [
    "### <font color='darkblue'> Câmbio"
   ]
  },
  {
   "cell_type": "code",
   "execution_count": 13,
   "id": "e7d25229",
   "metadata": {},
   "outputs": [
    {
     "data": {
      "text/html": [
       "<div>\n",
       "<style scoped>\n",
       "    .dataframe tbody tr th:only-of-type {\n",
       "        vertical-align: middle;\n",
       "    }\n",
       "\n",
       "    .dataframe tbody tr th {\n",
       "        vertical-align: top;\n",
       "    }\n",
       "\n",
       "    .dataframe thead th {\n",
       "        text-align: right;\n",
       "    }\n",
       "</style>\n",
       "<table border=\"1\" class=\"dataframe\">\n",
       "  <thead>\n",
       "    <tr style=\"text-align: right;\">\n",
       "      <th></th>\n",
       "      <th>EUR</th>\n",
       "      <th>USD</th>\n",
       "    </tr>\n",
       "    <tr>\n",
       "      <th>Date</th>\n",
       "      <th></th>\n",
       "      <th></th>\n",
       "    </tr>\n",
       "  </thead>\n",
       "  <tbody>\n",
       "    <tr>\n",
       "      <th>2000-01-03</th>\n",
       "      <td>1.85047</td>\n",
       "      <td>1.8011</td>\n",
       "    </tr>\n",
       "    <tr>\n",
       "      <th>2000-01-04</th>\n",
       "      <td>1.89150</td>\n",
       "      <td>1.8337</td>\n",
       "    </tr>\n",
       "    <tr>\n",
       "      <th>2000-01-05</th>\n",
       "      <td>1.91582</td>\n",
       "      <td>1.8544</td>\n",
       "    </tr>\n",
       "    <tr>\n",
       "      <th>2000-01-06</th>\n",
       "      <td>1.90761</td>\n",
       "      <td>1.8461</td>\n",
       "    </tr>\n",
       "    <tr>\n",
       "      <th>2000-01-07</th>\n",
       "      <td>1.88241</td>\n",
       "      <td>1.8281</td>\n",
       "    </tr>\n",
       "    <tr>\n",
       "      <th>...</th>\n",
       "      <td>...</td>\n",
       "      <td>...</td>\n",
       "    </tr>\n",
       "    <tr>\n",
       "      <th>2023-03-06</th>\n",
       "      <td>5.55090</td>\n",
       "      <td>5.1970</td>\n",
       "    </tr>\n",
       "    <tr>\n",
       "      <th>2023-03-07</th>\n",
       "      <td>5.49480</td>\n",
       "      <td>5.1901</td>\n",
       "    </tr>\n",
       "    <tr>\n",
       "      <th>2023-03-08</th>\n",
       "      <td>5.42440</td>\n",
       "      <td>5.1387</td>\n",
       "    </tr>\n",
       "    <tr>\n",
       "      <th>2023-03-09</th>\n",
       "      <td>5.42850</td>\n",
       "      <td>5.1353</td>\n",
       "    </tr>\n",
       "    <tr>\n",
       "      <th>2023-03-10</th>\n",
       "      <td>5.53930</td>\n",
       "      <td>5.1822</td>\n",
       "    </tr>\n",
       "  </tbody>\n",
       "</table>\n",
       "<p>5825 rows × 2 columns</p>\n",
       "</div>"
      ],
      "text/plain": [
       "                EUR     USD\n",
       "Date                       \n",
       "2000-01-03  1.85047  1.8011\n",
       "2000-01-04  1.89150  1.8337\n",
       "2000-01-05  1.91582  1.8544\n",
       "2000-01-06  1.90761  1.8461\n",
       "2000-01-07  1.88241  1.8281\n",
       "...             ...     ...\n",
       "2023-03-06  5.55090  5.1970\n",
       "2023-03-07  5.49480  5.1901\n",
       "2023-03-08  5.42440  5.1387\n",
       "2023-03-09  5.42850  5.1353\n",
       "2023-03-10  5.53930  5.1822\n",
       "\n",
       "[5825 rows x 2 columns]"
      ]
     },
     "execution_count": 13,
     "metadata": {},
     "output_type": "execute_result"
    }
   ],
   "source": [
    "# Vamos importar a série (Câmbio) do Banco Centra, nesse caso escolhemos \"USD e \"EUR\"\n",
    "# Vamos utilizar \"from bcb import currency\"\n",
    "# Para saber qual o códico da série que queremos importa devemos olhar na página do BC (Link Acima e Descrição Abaixo)\n",
    "# https://www3.bcb.gov.br/sgspub/localizarseries/localizarSeries.do?method=prepararTelaLocalizarSeries\n",
    "\n",
    "df = currency.get(['EUR', 'USD',],\n",
    "                  start='2000-01-01',\n",
    "                  end='2023-03-10',\n",
    "                  side='ask')\n",
    "df"
   ]
  },
  {
   "cell_type": "markdown",
   "id": "fa767ad6",
   "metadata": {},
   "source": [
    "### <font color='darkblue'> Gráfico do Câmbio: (EUR/USD)"
   ]
  },
  {
   "cell_type": "code",
   "execution_count": 17,
   "id": "add87b22",
   "metadata": {},
   "outputs": [
    {
     "data": {
      "image/png": "[encoded data removed]",
      "text/plain": [
       "<Figure size 1152x360 with 1 Axes>"
      ]
     },
     "metadata": {},
     "output_type": "display_data"
    }
   ],
   "source": [
    "# Vamos plotar o gráfico do EUR e USD usando o (matplotlib)\n",
    "# Vamos definir o tamanho do gráfico: df.plot(figsize=(16, 5))\n",
    "# Depois vamos salvar o gráfico em nossa pasta, \"plt.savefig('selic.png', dpi = 300)\"\n",
    "\n",
    "df.plot(figsize=(16, 5))\n",
    "plt.savefig('Câmbio EUR e USD.png', dpi=300) "
   ]
  },
  {
   "cell_type": "markdown",
   "id": "a49ff5ab",
   "metadata": {},
   "source": [
    "###### <font color='Red'> Projeto (28/09/2023): Importção de dados do Banco Central do Brasil - William E. Santos. "
   ]
  }
 ],
 "metadata": {
  "kernelspec": {
   "display_name": "Python 3 (ipykernel)",
   "language": "python",
   "name": "python3"
  },
  "language_info": {
   "codemirror_mode": {
    "name": "ipython",
    "version": 3
   },
   "file_extension": ".py",
   "mimetype": "text/x-python",
   "name": "python",
   "nbconvert_exporter": "python",
   "pygments_lexer": "ipython3",
   "version": "3.9.12"
  }
 },
 "nbformat": 4,
 "nbformat_minor": 5
}
